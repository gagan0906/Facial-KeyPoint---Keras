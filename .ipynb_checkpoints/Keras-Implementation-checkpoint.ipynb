{
 "cells": [
  {
   "cell_type": "code",
   "execution_count": 1,
   "metadata": {},
   "outputs": [],
   "source": [
    "import os\n",
    "import numpy as np\n",
    "import matplotlib.pyplot as plt\n",
    "import pandas as pd\n",
    "import cv2"
   ]
  },
  {
   "cell_type": "code",
   "execution_count": 3,
   "metadata": {},
   "outputs": [
    {
     "data": {
      "text/plain": [
       "['.ipynb_checkpoints',\n",
       " 'Alexander_by_Kanizaj_02[1].jpg',\n",
       " 'Keras-Implementation.ipynb',\n",
       " 'weights.h5']"
      ]
     },
     "execution_count": 3,
     "metadata": {},
     "output_type": "execute_result"
    }
   ],
   "source": [
    "os.listdir()"
   ]
  },
  {
   "cell_type": "code",
   "execution_count": 3,
   "metadata": {},
   "outputs": [
    {
     "data": {
      "text/html": [
       "<div>\n",
       "<style scoped>\n",
       "    .dataframe tbody tr th:only-of-type {\n",
       "        vertical-align: middle;\n",
       "    }\n",
       "\n",
       "    .dataframe tbody tr th {\n",
       "        vertical-align: top;\n",
       "    }\n",
       "\n",
       "    .dataframe thead th {\n",
       "        text-align: right;\n",
       "    }\n",
       "</style>\n",
       "<table border=\"1\" class=\"dataframe\">\n",
       "  <thead>\n",
       "    <tr style=\"text-align: right;\">\n",
       "      <th></th>\n",
       "      <th>Unnamed: 0</th>\n",
       "      <th>0</th>\n",
       "      <th>1</th>\n",
       "      <th>2</th>\n",
       "      <th>3</th>\n",
       "      <th>4</th>\n",
       "      <th>5</th>\n",
       "      <th>6</th>\n",
       "      <th>7</th>\n",
       "      <th>8</th>\n",
       "      <th>...</th>\n",
       "      <th>126</th>\n",
       "      <th>127</th>\n",
       "      <th>128</th>\n",
       "      <th>129</th>\n",
       "      <th>130</th>\n",
       "      <th>131</th>\n",
       "      <th>132</th>\n",
       "      <th>133</th>\n",
       "      <th>134</th>\n",
       "      <th>135</th>\n",
       "    </tr>\n",
       "  </thead>\n",
       "  <tbody>\n",
       "    <tr>\n",
       "      <th>0</th>\n",
       "      <td>Luis_Fonsi_21.jpg</td>\n",
       "      <td>45.0</td>\n",
       "      <td>98.0</td>\n",
       "      <td>47.0</td>\n",
       "      <td>106.0</td>\n",
       "      <td>49.0</td>\n",
       "      <td>110.0</td>\n",
       "      <td>53.0</td>\n",
       "      <td>119.0</td>\n",
       "      <td>56.0</td>\n",
       "      <td>...</td>\n",
       "      <td>83.0</td>\n",
       "      <td>119.0</td>\n",
       "      <td>90.0</td>\n",
       "      <td>117.0</td>\n",
       "      <td>83.0</td>\n",
       "      <td>119.0</td>\n",
       "      <td>81.0</td>\n",
       "      <td>122.0</td>\n",
       "      <td>77.0</td>\n",
       "      <td>122.0</td>\n",
       "    </tr>\n",
       "    <tr>\n",
       "      <th>1</th>\n",
       "      <td>Lincoln_Chafee_52.jpg</td>\n",
       "      <td>41.0</td>\n",
       "      <td>83.0</td>\n",
       "      <td>43.0</td>\n",
       "      <td>91.0</td>\n",
       "      <td>45.0</td>\n",
       "      <td>100.0</td>\n",
       "      <td>47.0</td>\n",
       "      <td>108.0</td>\n",
       "      <td>51.0</td>\n",
       "      <td>...</td>\n",
       "      <td>85.0</td>\n",
       "      <td>122.0</td>\n",
       "      <td>94.0</td>\n",
       "      <td>120.0</td>\n",
       "      <td>85.0</td>\n",
       "      <td>122.0</td>\n",
       "      <td>83.0</td>\n",
       "      <td>122.0</td>\n",
       "      <td>79.0</td>\n",
       "      <td>122.0</td>\n",
       "    </tr>\n",
       "    <tr>\n",
       "      <th>2</th>\n",
       "      <td>Valerie_Harper_30.jpg</td>\n",
       "      <td>56.0</td>\n",
       "      <td>69.0</td>\n",
       "      <td>56.0</td>\n",
       "      <td>77.0</td>\n",
       "      <td>56.0</td>\n",
       "      <td>86.0</td>\n",
       "      <td>56.0</td>\n",
       "      <td>94.0</td>\n",
       "      <td>58.0</td>\n",
       "      <td>...</td>\n",
       "      <td>79.0</td>\n",
       "      <td>105.0</td>\n",
       "      <td>86.0</td>\n",
       "      <td>108.0</td>\n",
       "      <td>77.0</td>\n",
       "      <td>105.0</td>\n",
       "      <td>75.0</td>\n",
       "      <td>105.0</td>\n",
       "      <td>73.0</td>\n",
       "      <td>105.0</td>\n",
       "    </tr>\n",
       "    <tr>\n",
       "      <th>3</th>\n",
       "      <td>Angelo_Reyes_22.jpg</td>\n",
       "      <td>61.0</td>\n",
       "      <td>80.0</td>\n",
       "      <td>58.0</td>\n",
       "      <td>95.0</td>\n",
       "      <td>58.0</td>\n",
       "      <td>108.0</td>\n",
       "      <td>58.0</td>\n",
       "      <td>120.0</td>\n",
       "      <td>58.0</td>\n",
       "      <td>...</td>\n",
       "      <td>98.0</td>\n",
       "      <td>136.0</td>\n",
       "      <td>107.0</td>\n",
       "      <td>139.0</td>\n",
       "      <td>95.0</td>\n",
       "      <td>139.0</td>\n",
       "      <td>91.0</td>\n",
       "      <td>139.0</td>\n",
       "      <td>85.0</td>\n",
       "      <td>136.0</td>\n",
       "    </tr>\n",
       "    <tr>\n",
       "      <th>4</th>\n",
       "      <td>Kristen_Breitweiser_11.jpg</td>\n",
       "      <td>58.0</td>\n",
       "      <td>94.0</td>\n",
       "      <td>58.0</td>\n",
       "      <td>104.0</td>\n",
       "      <td>60.0</td>\n",
       "      <td>113.0</td>\n",
       "      <td>62.0</td>\n",
       "      <td>121.0</td>\n",
       "      <td>67.0</td>\n",
       "      <td>...</td>\n",
       "      <td>92.0</td>\n",
       "      <td>117.0</td>\n",
       "      <td>103.0</td>\n",
       "      <td>118.0</td>\n",
       "      <td>92.0</td>\n",
       "      <td>120.0</td>\n",
       "      <td>88.0</td>\n",
       "      <td>122.0</td>\n",
       "      <td>84.0</td>\n",
       "      <td>122.0</td>\n",
       "    </tr>\n",
       "  </tbody>\n",
       "</table>\n",
       "<p>5 rows × 137 columns</p>\n",
       "</div>"
      ],
      "text/plain": [
       "                   Unnamed: 0     0     1     2      3     4      5     6  \\\n",
       "0           Luis_Fonsi_21.jpg  45.0  98.0  47.0  106.0  49.0  110.0  53.0   \n",
       "1       Lincoln_Chafee_52.jpg  41.0  83.0  43.0   91.0  45.0  100.0  47.0   \n",
       "2       Valerie_Harper_30.jpg  56.0  69.0  56.0   77.0  56.0   86.0  56.0   \n",
       "3         Angelo_Reyes_22.jpg  61.0  80.0  58.0   95.0  58.0  108.0  58.0   \n",
       "4  Kristen_Breitweiser_11.jpg  58.0  94.0  58.0  104.0  60.0  113.0  62.0   \n",
       "\n",
       "       7     8  ...     126    127    128    129   130    131   132    133  \\\n",
       "0  119.0  56.0  ...    83.0  119.0   90.0  117.0  83.0  119.0  81.0  122.0   \n",
       "1  108.0  51.0  ...    85.0  122.0   94.0  120.0  85.0  122.0  83.0  122.0   \n",
       "2   94.0  58.0  ...    79.0  105.0   86.0  108.0  77.0  105.0  75.0  105.0   \n",
       "3  120.0  58.0  ...    98.0  136.0  107.0  139.0  95.0  139.0  91.0  139.0   \n",
       "4  121.0  67.0  ...    92.0  117.0  103.0  118.0  92.0  120.0  88.0  122.0   \n",
       "\n",
       "    134    135  \n",
       "0  77.0  122.0  \n",
       "1  79.0  122.0  \n",
       "2  73.0  105.0  \n",
       "3  85.0  136.0  \n",
       "4  84.0  122.0  \n",
       "\n",
       "[5 rows x 137 columns]"
      ]
     },
     "execution_count": 3,
     "metadata": {},
     "output_type": "execute_result"
    }
   ],
   "source": [
    "df = pd.read_csv('data/training_frames_keypoints.csv')\n",
    "df.head()"
   ]
  },
  {
   "cell_type": "code",
   "execution_count": 4,
   "metadata": {},
   "outputs": [],
   "source": [
    "names = df.iloc[:,0].values\n",
    "labels = df.iloc[:,1:].values\n",
    "training_img = []\n",
    "for name in names:\n",
    "    img = cv2.imread(os.path.join('data/training',name))\n",
    "    img = cv2.resize(img,(224,224))\n",
    "    training_img.append(img)"
   ]
  },
  {
   "cell_type": "code",
   "execution_count": 5,
   "metadata": {},
   "outputs": [],
   "source": [
    "training_img = np.asarray(training_img)"
   ]
  },
  {
   "cell_type": "code",
   "execution_count": 6,
   "metadata": {},
   "outputs": [
    {
     "data": {
      "text/plain": [
       "(3462, 224, 224, 3)"
      ]
     },
     "execution_count": 6,
     "metadata": {},
     "output_type": "execute_result"
    }
   ],
   "source": [
    "training_img.shape"
   ]
  },
  {
   "cell_type": "code",
   "execution_count": 7,
   "metadata": {},
   "outputs": [],
   "source": [
    "training_img = training_img.astype('float')/255.0"
   ]
  },
  {
   "cell_type": "code",
   "execution_count": 8,
   "metadata": {},
   "outputs": [],
   "source": [
    "labels = (labels-labels.mean())/labels.std()"
   ]
  },
  {
   "cell_type": "code",
   "execution_count": 4,
   "metadata": {},
   "outputs": [
    {
     "name": "stderr",
     "output_type": "stream",
     "text": [
      "Using plaidml.keras.backend backend.\n"
     ]
    }
   ],
   "source": [
    "os.environ['KERAS_BACKEND'] = 'plaidml.keras.backend'\n",
    "from keras.layers import Conv2D, MaxPool2D, Dense, Flatten, Dropout\n",
    "from keras.models import Sequential"
   ]
  },
  {
   "cell_type": "code",
   "execution_count": 5,
   "metadata": {},
   "outputs": [],
   "source": [
    "def create_model():\n",
    "    model = Sequential()\n",
    "    model.add(Conv2D(32,(3,3),padding='same',activation='relu',input_shape=(224,224,3)))\n",
    "    model.add(MaxPool2D())\n",
    "    model.add(Conv2D(64,(3,3),padding='same',activation='relu'))\n",
    "    model.add(MaxPool2D())\n",
    "    model.add(Conv2D(128,(3,3),padding='same',activation='relu'))\n",
    "    model.add(MaxPool2D())\n",
    "    model.add(Conv2D(128,(3,3),padding='same',activation='relu'))\n",
    "    model.add(MaxPool2D())     \n",
    "    model.add(Flatten())\n",
    "    model.add(Dense(256,activation='relu'))\n",
    "    model.add(Dropout(0.4))\n",
    "    model.add(Dense(256,activation='relu'))\n",
    "    model.add(Dropout(0.4))\n",
    "    model.add(Dense(136))       \n",
    "    return model          \n",
    "              "
   ]
  },
  {
   "cell_type": "code",
   "execution_count": 6,
   "metadata": {},
   "outputs": [
    {
     "name": "stderr",
     "output_type": "stream",
     "text": [
      "INFO:plaidml:Opening device \"opencl_amd_hainan.0\"\n"
     ]
    },
    {
     "name": "stdout",
     "output_type": "stream",
     "text": [
      "_________________________________________________________________\n",
      "Layer (type)                 Output Shape              Param #   \n",
      "=================================================================\n",
      "conv2d_1 (Conv2D)            (None, 224, 224, 32)      896       \n",
      "_________________________________________________________________\n",
      "max_pooling2d_1 (MaxPooling2 (None, 112, 112, 32)      0         \n",
      "_________________________________________________________________\n",
      "conv2d_2 (Conv2D)            (None, 112, 112, 64)      18496     \n",
      "_________________________________________________________________\n",
      "max_pooling2d_2 (MaxPooling2 (None, 56, 56, 64)        0         \n",
      "_________________________________________________________________\n",
      "conv2d_3 (Conv2D)            (None, 56, 56, 128)       73856     \n",
      "_________________________________________________________________\n",
      "max_pooling2d_3 (MaxPooling2 (None, 28, 28, 128)       0         \n",
      "_________________________________________________________________\n",
      "conv2d_4 (Conv2D)            (None, 28, 28, 128)       147584    \n",
      "_________________________________________________________________\n",
      "max_pooling2d_4 (MaxPooling2 (None, 14, 14, 128)       0         \n",
      "_________________________________________________________________\n",
      "flatten_1 (Flatten)          (None, 25088)             0         \n",
      "_________________________________________________________________\n",
      "dense_1 (Dense)              (None, 256)               6422784   \n",
      "_________________________________________________________________\n",
      "dropout_1 (Dropout)          (None, 256)               0         \n",
      "_________________________________________________________________\n",
      "dense_2 (Dense)              (None, 256)               65792     \n",
      "_________________________________________________________________\n",
      "dropout_2 (Dropout)          (None, 256)               0         \n",
      "_________________________________________________________________\n",
      "dense_3 (Dense)              (None, 136)               34952     \n",
      "=================================================================\n",
      "Total params: 6,764,360\n",
      "Trainable params: 6,764,360\n",
      "Non-trainable params: 0\n",
      "_________________________________________________________________\n"
     ]
    }
   ],
   "source": [
    "model = create_model()\n",
    "model.summary()"
   ]
  },
  {
   "cell_type": "code",
   "execution_count": 16,
   "metadata": {},
   "outputs": [],
   "source": [
    "model.compile(optimizer='adam',loss='mse',metrics=['accuracy'])"
   ]
  },
  {
   "cell_type": "code",
   "execution_count": 13,
   "metadata": {},
   "outputs": [
    {
     "name": "stdout",
     "output_type": "stream",
     "text": [
      "Epoch 1/20\n"
     ]
    },
    {
     "name": "stderr",
     "output_type": "stream",
     "text": [
      "INFO:plaidml:Analyzing Ops: 26 of 378 operations complete\n",
      "INFO:plaidml:Analyzing Ops: 110 of 378 operations complete\n",
      "INFO:plaidml:Analyzing Ops: 117 of 378 operations complete\n",
      "INFO:plaidml:Analyzing Ops: 124 of 378 operations complete\n"
     ]
    },
    {
     "name": "stdout",
     "output_type": "stream",
     "text": [
      "3460/3462 [============================>.] - ETA: 0s - loss: 0.7771 - acc: 0.2835"
     ]
    },
    {
     "name": "stderr",
     "output_type": "stream",
     "text": [
      "INFO:plaidml:Analyzing Ops: 38 of 378 operations complete\n",
      "INFO:plaidml:Analyzing Ops: 110 of 378 operations complete\n",
      "INFO:plaidml:Analyzing Ops: 117 of 378 operations complete\n",
      "INFO:plaidml:Analyzing Ops: 124 of 378 operations complete\n"
     ]
    },
    {
     "name": "stdout",
     "output_type": "stream",
     "text": [
      "3462/3462 [==============================] - 259s 75ms/step - loss: 0.7768 - acc: 0.2834\n",
      "Epoch 2/20\n",
      "3462/3462 [==============================] - 214s 62ms/step - loss: 0.6654 - acc: 0.4431\n",
      "Epoch 3/20\n",
      "3462/3462 [==============================] - 214s 62ms/step - loss: 0.5431 - acc: 0.4636\n",
      "Epoch 4/20\n",
      "3462/3462 [==============================] - 215s 62ms/step - loss: 0.4247 - acc: 0.4910\n",
      "Epoch 5/20\n",
      "3462/3462 [==============================] - 216s 62ms/step - loss: 0.3343 - acc: 0.4806\n",
      "Epoch 6/20\n",
      "3462/3462 [==============================] - 214s 62ms/step - loss: 0.2707 - acc: 0.5069\n",
      "Epoch 7/20\n",
      "3462/3462 [==============================] - 214s 62ms/step - loss: 0.2256 - acc: 0.5133\n",
      "Epoch 8/20\n",
      "3462/3462 [==============================] - 215s 62ms/step - loss: 0.1896 - acc: 0.5170\n",
      "Epoch 9/20\n",
      "3462/3462 [==============================] - 217s 63ms/step - loss: 0.1795 - acc: 0.5358\n",
      "Epoch 10/20\n",
      "3462/3462 [==============================] - 216s 62ms/step - loss: 0.1544 - acc: 0.5598\n",
      "Epoch 11/20\n",
      "3462/3462 [==============================] - 214s 62ms/step - loss: 0.1410 - acc: 0.5592\n",
      "Epoch 12/20\n",
      "3462/3462 [==============================] - 214s 62ms/step - loss: 0.1308 - acc: 0.6049\n",
      "Epoch 13/20\n",
      "3462/3462 [==============================] - 215s 62ms/step - loss: 0.1263 - acc: 0.6080\n",
      "Epoch 14/20\n",
      "3462/3462 [==============================] - 217s 63ms/step - loss: 0.1183 - acc: 0.6485\n",
      "Epoch 15/20\n",
      "3462/3462 [==============================] - 216s 62ms/step - loss: 0.1101 - acc: 0.6606\n",
      "Epoch 16/20\n",
      "3462/3462 [==============================] - 217s 63ms/step - loss: 0.1101 - acc: 0.6765\n",
      "Epoch 17/20\n",
      "3462/3462 [==============================] - 217s 63ms/step - loss: 0.1040 - acc: 0.6996\n",
      "Epoch 18/20\n",
      "3462/3462 [==============================] - 217s 63ms/step - loss: 0.1030 - acc: 0.7106\n",
      "Epoch 19/20\n",
      "3462/3462 [==============================] - 2378s 687ms/step - loss: 0.0971 - acc: 0.7415\n",
      "Epoch 20/20\n",
      "3462/3462 [==============================] - 215s 62ms/step - loss: 0.0973 - acc: 0.7406\n"
     ]
    },
    {
     "data": {
      "text/plain": [
       "<keras.callbacks.History at 0x239904734a8>"
      ]
     },
     "execution_count": 13,
     "metadata": {},
     "output_type": "execute_result"
    }
   ],
   "source": [
    "model.fit(training_img,labels,batch_size=20,epochs=20)"
   ]
  },
  {
   "cell_type": "code",
   "execution_count": 15,
   "metadata": {},
   "outputs": [],
   "source": [
    "model.save_weights('weights.h5')"
   ]
  },
  {
   "cell_type": "code",
   "execution_count": 16,
   "metadata": {},
   "outputs": [
    {
     "ename": "NameError",
     "evalue": "name 'free' is not defined",
     "output_type": "error",
     "traceback": [
      "\u001b[1;31m---------------------------------------------------------------------------\u001b[0m",
      "\u001b[1;31mNameError\u001b[0m                                 Traceback (most recent call last)",
      "\u001b[1;32m<ipython-input-16-f0a865796a81>\u001b[0m in \u001b[0;36m<module>\u001b[1;34m\u001b[0m\n\u001b[1;32m----> 1\u001b[1;33m \u001b[0mfree\u001b[0m\u001b[1;33m(\u001b[0m\u001b[0mtraining_img\u001b[0m\u001b[1;33m)\u001b[0m\u001b[1;33m\u001b[0m\u001b[1;33m\u001b[0m\u001b[0m\n\u001b[0m",
      "\u001b[1;31mNameError\u001b[0m: name 'free' is not defined"
     ]
    }
   ],
   "source": [
    "free(training_img)"
   ]
  },
  {
   "cell_type": "code",
   "execution_count": 7,
   "metadata": {},
   "outputs": [],
   "source": [
    "model.load_weights('weights.h5')"
   ]
  },
  {
   "cell_type": "code",
   "execution_count": 7,
   "metadata": {},
   "outputs": [],
   "source": [
    "df = pd.read_csv('data/test_frames_keypoints.csv')\n",
    "names = df.iloc[:,0].values\n",
    "labels = df.iloc[:,1:].values\n",
    "training_img = []\n",
    "for name in names:\n",
    "    img = cv2.imread(os.path.join('data/test',name))\n",
    "    img = cv2.resize(img,(224,224))\n",
    "    training_img.append(img)"
   ]
  },
  {
   "cell_type": "code",
   "execution_count": 8,
   "metadata": {},
   "outputs": [],
   "source": [
    "training_img = np.asarray(training_img)"
   ]
  },
  {
   "cell_type": "code",
   "execution_count": 9,
   "metadata": {},
   "outputs": [],
   "source": [
    "training_img = training_img.astype('float')/255.0\n",
    "labels = (labels-labels.mean())/labels.std()"
   ]
  },
  {
   "cell_type": "code",
   "execution_count": 17,
   "metadata": {},
   "outputs": [
    {
     "name": "stderr",
     "output_type": "stream",
     "text": [
      "INFO:plaidml:Analyzing Ops: 40 of 86 operations complete\n",
      "INFO:plaidml:Analyzing Ops: 46 of 86 operations complete\n"
     ]
    },
    {
     "name": "stdout",
     "output_type": "stream",
     "text": [
      "\n",
      "Testing loss: 0.1264756066845609, acc: 0.8220779220779221\n",
      "\n"
     ]
    }
   ],
   "source": [
    "loss, acc = model.evaluate(training_img, labels, verbose=0)\n",
    "print('\\nTesting loss: {}, acc: {}\\n'.format(loss, acc))"
   ]
  },
  {
   "cell_type": "code",
   "execution_count": 8,
   "metadata": {},
   "outputs": [],
   "source": [
    "img = cv2.imread('pic.jpg')\n",
    "img = cv2.resize(img,(224,224))"
   ]
  },
  {
   "cell_type": "code",
   "execution_count": null,
   "metadata": {},
   "outputs": [],
   "source": [
    "pred = model.predict()"
   ]
  }
 ],
 "metadata": {
  "kernelspec": {
   "display_name": "Python 3",
   "language": "python",
   "name": "python3"
  },
  "language_info": {
   "codemirror_mode": {
    "name": "ipython",
    "version": 3
   },
   "file_extension": ".py",
   "mimetype": "text/x-python",
   "name": "python",
   "nbconvert_exporter": "python",
   "pygments_lexer": "ipython3",
   "version": "3.6.7"
  }
 },
 "nbformat": 4,
 "nbformat_minor": 2
}
